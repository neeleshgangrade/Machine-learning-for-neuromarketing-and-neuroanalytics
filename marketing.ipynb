{
 "cells": [
  {
   "cell_type": "markdown",
   "id": "6d3aa456",
   "metadata": {},
   "source": [
    "## INSTALLING ALL THE REQUIRED PACKAGES"
   ]
  },
  {
   "cell_type": "code",
   "execution_count": 1,
   "id": "f7121dce",
   "metadata": {},
   "outputs": [
    {
     "name": "stdout",
     "output_type": "stream",
     "text": [
      "Requirement already satisfied: google-cloud-videointelligence in c:\\users\\siddharth\\anaconda3\\lib\\site-packages (2.11.1)\n",
      "Requirement already satisfied: protobuf!=3.20.0,!=3.20.1,!=4.21.0,!=4.21.1,!=4.21.2,!=4.21.3,!=4.21.4,!=4.21.5,<5.0.0dev,>=3.19.5 in c:\\users\\siddharth\\anaconda3\\lib\\site-packages (from google-cloud-videointelligence) (4.22.1)\n",
      "Requirement already satisfied: google-api-core[grpc]!=2.0.*,!=2.1.*,!=2.10.*,!=2.2.*,!=2.3.*,!=2.4.*,!=2.5.*,!=2.6.*,!=2.7.*,!=2.8.*,!=2.9.*,<3.0.0dev,>=1.34.0 in c:\\users\\siddharth\\anaconda3\\lib\\site-packages (from google-cloud-videointelligence) (2.11.0)\n",
      "Requirement already satisfied: proto-plus<2.0.0dev,>=1.22.0 in c:\\users\\siddharth\\anaconda3\\lib\\site-packages (from google-cloud-videointelligence) (1.22.2)\n",
      "Requirement already satisfied: requests<3.0.0dev,>=2.18.0 in c:\\users\\siddharth\\anaconda3\\lib\\site-packages (from google-api-core[grpc]!=2.0.*,!=2.1.*,!=2.10.*,!=2.2.*,!=2.3.*,!=2.4.*,!=2.5.*,!=2.6.*,!=2.7.*,!=2.8.*,!=2.9.*,<3.0.0dev,>=1.34.0->google-cloud-videointelligence) (2.28.2)\n",
      "Requirement already satisfied: google-auth<3.0dev,>=2.14.1 in c:\\users\\siddharth\\anaconda3\\lib\\site-packages (from google-api-core[grpc]!=2.0.*,!=2.1.*,!=2.10.*,!=2.2.*,!=2.3.*,!=2.4.*,!=2.5.*,!=2.6.*,!=2.7.*,!=2.8.*,!=2.9.*,<3.0.0dev,>=1.34.0->google-cloud-videointelligence) (2.17.2)\n",
      "Requirement already satisfied: googleapis-common-protos<2.0dev,>=1.56.2 in c:\\users\\siddharth\\anaconda3\\lib\\site-packages (from google-api-core[grpc]!=2.0.*,!=2.1.*,!=2.10.*,!=2.2.*,!=2.3.*,!=2.4.*,!=2.5.*,!=2.6.*,!=2.7.*,!=2.8.*,!=2.9.*,<3.0.0dev,>=1.34.0->google-cloud-videointelligence) (1.59.0)\n",
      "Requirement already satisfied: grpcio<2.0dev,>=1.33.2 in c:\\users\\siddharth\\anaconda3\\lib\\site-packages (from google-api-core[grpc]!=2.0.*,!=2.1.*,!=2.10.*,!=2.2.*,!=2.3.*,!=2.4.*,!=2.5.*,!=2.6.*,!=2.7.*,!=2.8.*,!=2.9.*,<3.0.0dev,>=1.34.0->google-cloud-videointelligence) (1.53.0)\n",
      "Requirement already satisfied: grpcio-status<2.0dev,>=1.33.2 in c:\\users\\siddharth\\anaconda3\\lib\\site-packages (from google-api-core[grpc]!=2.0.*,!=2.1.*,!=2.10.*,!=2.2.*,!=2.3.*,!=2.4.*,!=2.5.*,!=2.6.*,!=2.7.*,!=2.8.*,!=2.9.*,<3.0.0dev,>=1.34.0->google-cloud-videointelligence) (1.53.0)\n",
      "Requirement already satisfied: six>=1.9.0 in c:\\users\\siddharth\\anaconda3\\lib\\site-packages (from google-auth<3.0dev,>=2.14.1->google-api-core[grpc]!=2.0.*,!=2.1.*,!=2.10.*,!=2.2.*,!=2.3.*,!=2.4.*,!=2.5.*,!=2.6.*,!=2.7.*,!=2.8.*,!=2.9.*,<3.0.0dev,>=1.34.0->google-cloud-videointelligence) (1.15.0)\n",
      "Requirement already satisfied: rsa<5,>=3.1.4 in c:\\users\\siddharth\\anaconda3\\lib\\site-packages (from google-auth<3.0dev,>=2.14.1->google-api-core[grpc]!=2.0.*,!=2.1.*,!=2.10.*,!=2.2.*,!=2.3.*,!=2.4.*,!=2.5.*,!=2.6.*,!=2.7.*,!=2.8.*,!=2.9.*,<3.0.0dev,>=1.34.0->google-cloud-videointelligence) (4.9)\n",
      "Requirement already satisfied: pyasn1-modules>=0.2.1 in c:\\users\\siddharth\\anaconda3\\lib\\site-packages (from google-auth<3.0dev,>=2.14.1->google-api-core[grpc]!=2.0.*,!=2.1.*,!=2.10.*,!=2.2.*,!=2.3.*,!=2.4.*,!=2.5.*,!=2.6.*,!=2.7.*,!=2.8.*,!=2.9.*,<3.0.0dev,>=1.34.0->google-cloud-videointelligence) (0.2.8)\n",
      "Requirement already satisfied: cachetools<6.0,>=2.0.0 in c:\\users\\siddharth\\anaconda3\\lib\\site-packages (from google-auth<3.0dev,>=2.14.1->google-api-core[grpc]!=2.0.*,!=2.1.*,!=2.10.*,!=2.2.*,!=2.3.*,!=2.4.*,!=2.5.*,!=2.6.*,!=2.7.*,!=2.8.*,!=2.9.*,<3.0.0dev,>=1.34.0->google-cloud-videointelligence) (5.3.0)\n",
      "Requirement already satisfied: urllib3<1.27,>=1.21.1 in c:\\users\\siddharth\\anaconda3\\lib\\site-packages (from requests<3.0.0dev,>=2.18.0->google-api-core[grpc]!=2.0.*,!=2.1.*,!=2.10.*,!=2.2.*,!=2.3.*,!=2.4.*,!=2.5.*,!=2.6.*,!=2.7.*,!=2.8.*,!=2.9.*,<3.0.0dev,>=1.34.0->google-cloud-videointelligence) (1.26.4)\n",
      "Requirement already satisfied: idna<4,>=2.5 in c:\\users\\siddharth\\anaconda3\\lib\\site-packages (from requests<3.0.0dev,>=2.18.0->google-api-core[grpc]!=2.0.*,!=2.1.*,!=2.10.*,!=2.2.*,!=2.3.*,!=2.4.*,!=2.5.*,!=2.6.*,!=2.7.*,!=2.8.*,!=2.9.*,<3.0.0dev,>=1.34.0->google-cloud-videointelligence) (2.10)\n",
      "Requirement already satisfied: charset-normalizer<4,>=2 in c:\\users\\siddharth\\anaconda3\\lib\\site-packages (from requests<3.0.0dev,>=2.18.0->google-api-core[grpc]!=2.0.*,!=2.1.*,!=2.10.*,!=2.2.*,!=2.3.*,!=2.4.*,!=2.5.*,!=2.6.*,!=2.7.*,!=2.8.*,!=2.9.*,<3.0.0dev,>=1.34.0->google-cloud-videointelligence) (3.1.0)\n",
      "Requirement already satisfied: certifi>=2017.4.17 in c:\\users\\siddharth\\anaconda3\\lib\\site-packages (from requests<3.0.0dev,>=2.18.0->google-api-core[grpc]!=2.0.*,!=2.1.*,!=2.10.*,!=2.2.*,!=2.3.*,!=2.4.*,!=2.5.*,!=2.6.*,!=2.7.*,!=2.8.*,!=2.9.*,<3.0.0dev,>=1.34.0->google-cloud-videointelligence) (2020.12.5)\n",
      "Requirement already satisfied: pyasn1<0.5.0,>=0.4.6 in c:\\users\\siddharth\\anaconda3\\lib\\site-packages (from pyasn1-modules>=0.2.1->google-auth<3.0dev,>=2.14.1->google-api-core[grpc]!=2.0.*,!=2.1.*,!=2.10.*,!=2.2.*,!=2.3.*,!=2.4.*,!=2.5.*,!=2.6.*,!=2.7.*,!=2.8.*,!=2.9.*,<3.0.0dev,>=1.34.0->google-cloud-videointelligence) (0.4.8)\n"
     ]
    },
    {
     "name": "stderr",
     "output_type": "stream",
     "text": [
      "\n",
      "[notice] A new release of pip is available: 23.0.1 -> 23.1.2\n",
      "[notice] To update, run: python.exe -m pip install --upgrade pip\n"
     ]
    }
   ],
   "source": [
    "!pip install --upgrade google-cloud-videointelligence"
   ]
  },
  {
   "cell_type": "code",
   "execution_count": 2,
   "id": "b91ef435",
   "metadata": {},
   "outputs": [
    {
     "name": "stdout",
     "output_type": "stream",
     "text": [
      "Requirement already satisfied: google-cloud-storage in c:\\users\\siddharth\\anaconda3\\lib\\site-packages (2.8.0)\n",
      "Requirement already satisfied: google-cloud-core<3.0dev,>=2.3.0 in c:\\users\\siddharth\\anaconda3\\lib\\site-packages (from google-cloud-storage) (2.3.2)\n",
      "Requirement already satisfied: google-auth<3.0dev,>=1.25.0 in c:\\users\\siddharth\\anaconda3\\lib\\site-packages (from google-cloud-storage) (2.17.2)\n",
      "Requirement already satisfied: requests<3.0.0dev,>=2.18.0 in c:\\users\\siddharth\\anaconda3\\lib\\site-packages (from google-cloud-storage) (2.28.2)\n",
      "Requirement already satisfied: google-api-core!=2.0.*,!=2.1.*,!=2.2.*,!=2.3.0,<3.0.0dev,>=1.31.5 in c:\\users\\siddharth\\anaconda3\\lib\\site-packages (from google-cloud-storage) (2.11.0)\n",
      "Requirement already satisfied: google-resumable-media>=2.3.2 in c:\\users\\siddharth\\anaconda3\\lib\\site-packages (from google-cloud-storage) (2.4.1)\n",
      "Requirement already satisfied: protobuf!=3.20.0,!=3.20.1,!=4.21.0,!=4.21.1,!=4.21.2,!=4.21.3,!=4.21.4,!=4.21.5,<5.0.0dev,>=3.19.5 in c:\\users\\siddharth\\anaconda3\\lib\\site-packages (from google-api-core!=2.0.*,!=2.1.*,!=2.2.*,!=2.3.0,<3.0.0dev,>=1.31.5->google-cloud-storage) (4.22.1)\n",
      "Requirement already satisfied: googleapis-common-protos<2.0dev,>=1.56.2 in c:\\users\\siddharth\\anaconda3\\lib\\site-packages (from google-api-core!=2.0.*,!=2.1.*,!=2.2.*,!=2.3.0,<3.0.0dev,>=1.31.5->google-cloud-storage) (1.59.0)\n",
      "Requirement already satisfied: six>=1.9.0 in c:\\users\\siddharth\\anaconda3\\lib\\site-packages (from google-auth<3.0dev,>=1.25.0->google-cloud-storage) (1.15.0)\n",
      "Requirement already satisfied: pyasn1-modules>=0.2.1 in c:\\users\\siddharth\\anaconda3\\lib\\site-packages (from google-auth<3.0dev,>=1.25.0->google-cloud-storage) (0.2.8)\n",
      "Requirement already satisfied: cachetools<6.0,>=2.0.0 in c:\\users\\siddharth\\anaconda3\\lib\\site-packages (from google-auth<3.0dev,>=1.25.0->google-cloud-storage) (5.3.0)\n",
      "Requirement already satisfied: rsa<5,>=3.1.4 in c:\\users\\siddharth\\anaconda3\\lib\\site-packages (from google-auth<3.0dev,>=1.25.0->google-cloud-storage) (4.9)\n",
      "Requirement already satisfied: google-crc32c<2.0dev,>=1.0 in c:\\users\\siddharth\\anaconda3\\lib\\site-packages (from google-resumable-media>=2.3.2->google-cloud-storage) (1.5.0)\n",
      "Requirement already satisfied: certifi>=2017.4.17 in c:\\users\\siddharth\\anaconda3\\lib\\site-packages (from requests<3.0.0dev,>=2.18.0->google-cloud-storage) (2020.12.5)\n",
      "Requirement already satisfied: charset-normalizer<4,>=2 in c:\\users\\siddharth\\anaconda3\\lib\\site-packages (from requests<3.0.0dev,>=2.18.0->google-cloud-storage) (3.1.0)\n",
      "Requirement already satisfied: urllib3<1.27,>=1.21.1 in c:\\users\\siddharth\\anaconda3\\lib\\site-packages (from requests<3.0.0dev,>=2.18.0->google-cloud-storage) (1.26.4)\n",
      "Requirement already satisfied: idna<4,>=2.5 in c:\\users\\siddharth\\anaconda3\\lib\\site-packages (from requests<3.0.0dev,>=2.18.0->google-cloud-storage) (2.10)\n",
      "Requirement already satisfied: pyasn1<0.5.0,>=0.4.6 in c:\\users\\siddharth\\anaconda3\\lib\\site-packages (from pyasn1-modules>=0.2.1->google-auth<3.0dev,>=1.25.0->google-cloud-storage) (0.4.8)\n"
     ]
    },
    {
     "name": "stderr",
     "output_type": "stream",
     "text": [
      "\n",
      "[notice] A new release of pip is available: 23.0.1 -> 23.1.2\n",
      "[notice] To update, run: python.exe -m pip install --upgrade pip\n"
     ]
    }
   ],
   "source": [
    "!pip install --upgrade google-cloud-storage"
   ]
  },
  {
   "cell_type": "code",
   "execution_count": 3,
   "id": "fe9dd923",
   "metadata": {},
   "outputs": [],
   "source": [
    "from google.cloud import videointelligence\n"
   ]
  },
  {
   "cell_type": "code",
   "execution_count": 4,
   "id": "a8a4116a",
   "metadata": {},
   "outputs": [],
   "source": [
    "import wave, math, contextlib\n",
    "import speech_recognition as sr\n",
    "from moviepy.editor import AudioFileClip"
   ]
  },
  {
   "cell_type": "code",
   "execution_count": 5,
   "id": "eee3d55f",
   "metadata": {},
   "outputs": [],
   "source": [
    "import numpy as np\n",
    "import pandas as pd\n",
    "import csv\n",
    "from sklearn.model_selection import train_test_split\n",
    "from sklearn.linear_model import LogisticRegression\n",
    "from sklearn.model_selection import GridSearchCV\n",
    "from sklearn.model_selection import StratifiedKFold\n",
    "from sklearn.ensemble import RandomForestClassifier\n",
    "from sklearn.svm import SVC\n",
    "from sklearn.naive_bayes import MultinomialNB\n",
    "from sklearn.linear_model import SGDClassifier\n",
    "from sklearn.metrics import accuracy_score, f1_score, precision_score, recall_score\n",
    "from sklearn.metrics import classification_report, confusion_matrix\n",
    "import seaborn as sns\n",
    "import matplotlib.pyplot as plt\n",
    "import re\n",
    "from nltk.corpus import stopwords\n",
    "from nltk.stem import PorterStemmer\n",
    "from sklearn.feature_extraction.text import TfidfVectorizer\n"
   ]
  },
  {
   "cell_type": "code",
   "execution_count": 6,
   "id": "38f0c995",
   "metadata": {},
   "outputs": [],
   "source": [
    "from sklearn.naive_bayes import MultinomialNB\n",
    "from sklearn.tree import DecisionTreeClassifier, export_graphviz\n",
    "from sklearn.linear_model import LogisticRegression"
   ]
  },
  {
   "cell_type": "code",
   "execution_count": 7,
   "id": "73dc6fbf",
   "metadata": {},
   "outputs": [],
   "source": [
    "from sklearn.ensemble import RandomForestClassifier\n",
    "from sklearn.model_selection import StratifiedKFold\n",
    "from sklearn.model_selection import GridSearchCV"
   ]
  },
  {
   "cell_type": "code",
   "execution_count": 9,
   "id": "dd6d1601",
   "metadata": {},
   "outputs": [],
   "source": [
    "from gensim.parsing.preprocessing import remove_stopwords"
   ]
  },
  {
   "cell_type": "code",
   "execution_count": 10,
   "id": "2ea03a75",
   "metadata": {},
   "outputs": [
    {
     "name": "stdout",
     "output_type": "stream",
     "text": [
      "Requirement already satisfied: yake in c:\\users\\siddharth\\anaconda3\\lib\\site-packages (0.4.8)\n",
      "Requirement already satisfied: networkx in c:\\users\\siddharth\\anaconda3\\lib\\site-packages (from yake) (2.5)\n",
      "Requirement already satisfied: jellyfish in c:\\users\\siddharth\\anaconda3\\lib\\site-packages (from yake) (0.11.2)\n",
      "Requirement already satisfied: segtok in c:\\users\\siddharth\\anaconda3\\lib\\site-packages (from yake) (1.5.11)\n",
      "Requirement already satisfied: click>=6.0 in c:\\users\\siddharth\\anaconda3\\lib\\site-packages (from yake) (7.1.2)\n",
      "Requirement already satisfied: numpy in c:\\users\\siddharth\\anaconda3\\lib\\site-packages (from yake) (1.20.1)\n",
      "Requirement already satisfied: tabulate in c:\\users\\siddharth\\anaconda3\\lib\\site-packages (from yake) (0.9.0)\n",
      "Requirement already satisfied: decorator>=4.3.0 in c:\\users\\siddharth\\anaconda3\\lib\\site-packages (from networkx->yake) (4.4.2)\n",
      "Requirement already satisfied: regex in c:\\users\\siddharth\\anaconda3\\lib\\site-packages (from segtok->yake) (2021.4.4)\n"
     ]
    },
    {
     "name": "stderr",
     "output_type": "stream",
     "text": [
      "\n",
      "[notice] A new release of pip is available: 23.0.1 -> 23.1.2\n",
      "[notice] To update, run: python.exe -m pip install --upgrade pip\n"
     ]
    }
   ],
   "source": [
    "!pip install yake"
   ]
  },
  {
   "cell_type": "code",
   "execution_count": 11,
   "id": "0b7656f3",
   "metadata": {},
   "outputs": [],
   "source": [
    "import yake"
   ]
  },
  {
   "cell_type": "code",
   "execution_count": 12,
   "id": "f0b444ce",
   "metadata": {},
   "outputs": [
    {
     "name": "stdout",
     "output_type": "stream",
     "text": [
      "Requirement already satisfied: summa in c:\\users\\siddharth\\anaconda3\\lib\\site-packages (1.2.0)\n",
      "Requirement already satisfied: scipy>=0.19 in c:\\users\\siddharth\\anaconda3\\lib\\site-packages (from summa) (1.10.1)\n",
      "Requirement already satisfied: numpy<1.27.0,>=1.19.5 in c:\\users\\siddharth\\anaconda3\\lib\\site-packages (from scipy>=0.19->summa) (1.20.1)\n"
     ]
    },
    {
     "name": "stderr",
     "output_type": "stream",
     "text": [
      "\n",
      "[notice] A new release of pip is available: 23.0.1 -> 23.1.2\n",
      "[notice] To update, run: python.exe -m pip install --upgrade pip\n"
     ]
    }
   ],
   "source": [
    "!pip install summa"
   ]
  },
  {
   "cell_type": "code",
   "execution_count": 13,
   "id": "ce4aebab",
   "metadata": {},
   "outputs": [],
   "source": [
    "from summa import keywords"
   ]
  },
  {
   "cell_type": "code",
   "execution_count": 14,
   "id": "5821d37f",
   "metadata": {},
   "outputs": [],
   "source": [
    "import os"
   ]
  },
  {
   "cell_type": "code",
   "execution_count": 15,
   "id": "6318b1e8",
   "metadata": {},
   "outputs": [],
   "source": [
    "def key_path():\n",
    "    inp=input(\"Please enter the key file in json format: \") #Take key json file name as an input from the user\n",
    "    os.environ['GOOGLE_APPLICATION_CREDENTIALS']=inp"
   ]
  },
  {
   "cell_type": "code",
   "execution_count": 16,
   "id": "fdec883a",
   "metadata": {},
   "outputs": [
    {
     "name": "stdout",
     "output_type": "stream",
     "text": [
      "Please enter the key file in json format: video-api-service-account.json\n"
     ]
    }
   ],
   "source": [
    "key_path()"
   ]
  },
  {
   "cell_type": "code",
   "execution_count": 17,
   "id": "1fc6b672",
   "metadata": {},
   "outputs": [],
   "source": [
    "from google.cloud import storage"
   ]
  },
  {
   "cell_type": "markdown",
   "id": "6e6245b0",
   "metadata": {},
   "source": [
    "# Connecting to the GC bucket and accessing the items in the bucket."
   ]
  },
  {
   "cell_type": "code",
   "execution_count": 18,
   "id": "10375622",
   "metadata": {},
   "outputs": [],
   "source": [
    "def bucket():\n",
    "    global storage_client\n",
    "    storage_client=storage.Client()\n",
    "    for bucket in storage_client.list_buckets():   #Listing all present buckets on GCP \n",
    "        print(bucket)     "
   ]
  },
  {
   "cell_type": "code",
   "execution_count": 19,
   "id": "b79218c5",
   "metadata": {},
   "outputs": [
    {
     "name": "stdout",
     "output_type": "stream",
     "text": [
      "<Bucket: ba-demo-bucket>\n"
     ]
    }
   ],
   "source": [
    "bucket()"
   ]
  },
  {
   "cell_type": "code",
   "execution_count": 20,
   "id": "b25e9dd9",
   "metadata": {},
   "outputs": [],
   "source": [
    "def objects(bucket_name):\n",
    "    bucket=storage_client.get_bucket(bucket_name)\n",
    "    for obj in bucket.list_blobs():  #Listing all objects present in the bucket\n",
    "        print(obj.name)"
   ]
  },
  {
   "cell_type": "code",
   "execution_count": 21,
   "id": "7745616a",
   "metadata": {},
   "outputs": [],
   "source": [
    "import io"
   ]
  },
  {
   "cell_type": "code",
   "execution_count": 22,
   "id": "7f150db8",
   "metadata": {},
   "outputs": [],
   "source": [
    "\n",
    "class my_dictionary(dict):     #Initialize dictionary to store Logos\n",
    "    # __init__ function \n",
    "        def __init__(self): \n",
    "            self = dict()   \n",
    "    # Function to add key:value \n",
    "        def add(self, key, value): \n",
    "            self[key] = value \n",
    "\n",
    "    \n",
    "def detect_logo_gcs(input_uri): #Detecting all the logos present in the video\n",
    "    global logo_dictionary\n",
    "    logo_dictionary = my_dictionary() \n",
    "    client = videointelligence.VideoIntelligenceServiceClient()\n",
    "\n",
    "    features = [videointelligence.Feature.LOGO_RECOGNITION]\n",
    "\n",
    "    operation = client.annotate_video(\n",
    "        request={\"features\": features, \"input_uri\": input_uri}\n",
    "    )\n",
    "\n",
    "    print(\"Waiting for operation to complete...\")\n",
    "    response = operation.result()\n",
    "    # Get the first response, since we sent only one video.\n",
    "    annotation_result = response.annotation_results[0]\n",
    "    \n",
    "    # Annotations for list of logos detected, tracked and recognized in video.\n",
    "    for logo_recognition_annotation in annotation_result.logo_recognition_annotations:\n",
    "        entity = logo_recognition_annotation.entity\n",
    "\n",
    "        # Opaque entity ID. Some IDs may be available in [Google Knowledge Graph\n",
    "        # Search API](https://developers.google.com/knowledge-graph/).\n",
    "        print(\"Entity Id : {}\".format(entity.entity_id))\n",
    "\n",
    "        print(\"Description : {}\".format(entity.description))\n",
    "\n",
    "        # All logo tracks where the recognized logo appears. Each track corresponds\n",
    "        # to one logo instance appearing in consecutive frames.\n",
    "        #for track in logo_recognition_annotation.tracks:\n",
    "\n",
    "            # Video segment of a track.\n",
    "            \n",
    "           # print(\"\\tConfidence : {}\".format(track.confidence))\n",
    "\n",
    "            \n",
    "        # All video segments where the recognized logo appears. There might be\n",
    "        # multiple instances of the same logo class appearing in one VideoSegment.\n",
    "        count=0\n",
    "        for segment in logo_recognition_annotation.segments:\n",
    "            count=count+1\n",
    "           # print(\n",
    "            #    \"\\n\\tStart Time Offset : {}.{}\".format(\n",
    "             #       segment.start_time_offset.seconds,\n",
    "              #      segment.start_time_offset.microseconds * 1000,\n",
    "               # )\n",
    "            #)\n",
    "            #print(\n",
    "             #   \"\\tEnd Time Offset : {}.{}\".format(\n",
    "              #      segment.end_time_offset.seconds,\n",
    "               #     segment.end_time_offset.microseconds * 1000,\n",
    "                #)\n",
    "            #)\n",
    "            \n",
    "        logo_dictionary.add(count,entity.description)\n",
    "        print(logo_dictionary)\n"
   ]
  },
  {
   "cell_type": "code",
   "execution_count": 23,
   "id": "4f198569",
   "metadata": {},
   "outputs": [],
   "source": [
    "def detect_logo(input_videoname):  #Detecting the logo which is occcuring more often in video\n",
    "    global logo\n",
    "    detect_logo_gcs(input_videoname)\n",
    "    myKeys = list(logo_dictionary.keys())\n",
    "    myKeys.sort(reverse = True)\n",
    "    logo=logo_dictionary[myKeys[0]]\n",
    "    print(\"Logo of video: \", logo)"
   ]
  },
  {
   "cell_type": "code",
   "execution_count": 24,
   "id": "307a6c77",
   "metadata": {},
   "outputs": [],
   "source": [
    "def speech_to_text(x): #Converting video speech to text  \n",
    "    global text\n",
    "    text=[]\n",
    "    video_client = videointelligence.VideoIntelligenceServiceClient()\n",
    "    features = [videointelligence.Feature.SPEECH_TRANSCRIPTION]\n",
    "\n",
    "    config = videointelligence.SpeechTranscriptionConfig(\n",
    "        language_code=\"en-US\", enable_automatic_punctuation=True\n",
    "    )\n",
    "    video_context = videointelligence.VideoContext(speech_transcription_config=config)\n",
    "\n",
    "    operation = video_client.annotate_video(\n",
    "        request={\n",
    "            \"features\": features,\n",
    "            \"input_uri\": x,\n",
    "            \"video_context\": video_context,\n",
    "        }\n",
    "    )\n",
    "\n",
    "#print(\"\\nProcessing video for speech transcription.\")\n",
    "\n",
    "    result = operation.result(timeout=600)\n",
    "\n",
    "    annotation_results = result.annotation_results[0]\n",
    "    for speech_transcription in annotation_results.speech_transcriptions:\n",
    "\n",
    "        for alternative in speech_transcription.alternatives:\n",
    "            #print(\"Transcript: {}\".format(alternative.transcript))\n",
    "            #print(\"Confidence: {}\\n\".format(alternative.confidence))\n",
    "            text.append(alternative.transcript)\n",
    "        "
   ]
  },
  {
   "cell_type": "code",
   "execution_count": 25,
   "id": "d031323a",
   "metadata": {},
   "outputs": [],
   "source": [
    "def listToString(instr):\n",
    "    emptystr=\"\"\n",
    "\n",
    "    for i in instr: \n",
    "\n",
    "        emptystr += i+' '\n",
    "    return emptystr"
   ]
  },
  {
   "cell_type": "code",
   "execution_count": 26,
   "id": "90beb3aa",
   "metadata": {},
   "outputs": [],
   "source": [
    "def speech_to_txt(input_videoname):  #Converting the video text data to string format\n",
    "    global text_speech\n",
    "    speech_to_text(input_videoname)\n",
    "    text_speech=listToString(text)\n",
    "    print(\"Transcript of video: \", text_speech)"
   ]
  },
  {
   "cell_type": "code",
   "execution_count": 27,
   "id": "75485b83",
   "metadata": {},
   "outputs": [],
   "source": [
    "def logo_speech(): \n",
    "    global input_videoname\n",
    "    input_videoname=input(\"please pass the url of the object in the GCP bucket\")\n",
    "    detect_logo(input_videoname)\n",
    "    speech_to_txt(input_videoname)"
   ]
  },
  {
   "cell_type": "code",
   "execution_count": 28,
   "id": "6541ae4f",
   "metadata": {},
   "outputs": [
    {
     "name": "stdout",
     "output_type": "stream",
     "text": [
      "please pass the url of the object in the GCP bucketgs://ba-demo-bucket/NI Ad Feature Extraction Project Files/ANZ - Close Shot - AMO2044 30 TVC.mp4\n",
      "Waiting for operation to complete...\n",
      "Entity Id : /m/03s14w\n",
      "Description : Australia and New Zealand Banking Group\n",
      "{1: 'Australia and New Zealand Banking Group'}\n",
      "Logo of video:  Australia and New Zealand Banking Group\n",
      "Transcript of video:  right now, and I and said we're giving away 300,000 Qantas points with any eligible home loan and the chance to win up to five hundred thousand dollars off your home loan and I'll for so good you don't need a celebrity  Sorry, half be quick. Apply by August 31.  \n"
     ]
    }
   ],
   "source": [
    "logo_speech()"
   ]
  },
  {
   "cell_type": "markdown",
   "id": "01a2eec6",
   "metadata": {},
   "source": [
    "### In case the API is down seems to have a connecting problem we can use python library to extract the text if the API works fine we can skip this"
   ]
  },
  {
   "cell_type": "code",
   "execution_count": null,
   "id": "4e8424bc",
   "metadata": {},
   "outputs": [],
   "source": [
    "#transcribed_audio_file_name = \"transcribed_speech.wav\"\n",
    "#zoom_video_file_name = \"2-BHP-Medicine-MoodMatic.mp4\""
   ]
  },
  {
   "cell_type": "code",
   "execution_count": null,
   "id": "9d4767eb",
   "metadata": {},
   "outputs": [],
   "source": [
    "#audioclip = AudioFileClip(zoom_video_file_name)\n",
    "#audioclip.write_audiofile(transcribed_audio_file_name)"
   ]
  },
  {
   "cell_type": "code",
   "execution_count": null,
   "id": "e470ce6e",
   "metadata": {},
   "outputs": [],
   "source": [
    "#with contextlib.closing(wave.open(transcribed_audio_file_name,'r')) as f:\n",
    "    #frames = f.getnframes()\n",
    "    #rate = f.getframerate()\n",
    "    #duration = frames / float(rate)"
   ]
  },
  {
   "cell_type": "code",
   "execution_count": null,
   "id": "2982d553",
   "metadata": {},
   "outputs": [],
   "source": [
    "#total_duration = math.ceil(duration / 150)\n",
    "#r = sr.Recognizer()"
   ]
  },
  {
   "cell_type": "code",
   "execution_count": null,
   "id": "63d16e45",
   "metadata": {},
   "outputs": [],
   "source": [
    "# for i in range(0, total_duration):\n",
    "    #with sr.AudioFile(transcribed_audio_file_name) as source:\n",
    "     #   audio = r.record(source, offset=i*60, duration=60)\n",
    "    #f = open(\"transcription.txt\", \"a\")\n",
    "    #f.write(r.recognize_google(audio))\n",
    "    #f.write(\" \")\n",
    "#f.close()\n"
   ]
  },
  {
   "cell_type": "markdown",
   "id": "febf9715",
   "metadata": {},
   "source": [
    "### Here we  created a function to remove stopwords and unrequired symbols used genism library which has remove_stopwords method to directly remove the unwanted words."
   ]
  },
  {
   "cell_type": "code",
   "execution_count": 29,
   "id": "35a25ac8",
   "metadata": {},
   "outputs": [],
   "source": [
    "def cleaning_text(txt):\n",
    "    new_data=txt\n",
    "    temp=[]\n",
    "    new_data = re.sub(r\"http\\S+\", \"\", new_data)\n",
    "    new_data = re.sub(\"[^a-zA-Z]\",\" \",new_data) \n",
    "    new_data=new_data.lower()\n",
    "    temp.append(new_data)\n",
    "    clean_text=temp\n",
    "    filtered_text = remove_stopwords(clean_text[0])\n",
    "    return filtered_text"
   ]
  },
  {
   "cell_type": "markdown",
   "id": "64e35e4e",
   "metadata": {},
   "source": [
    "### We have the clean_text i.e processed from the ouput received from the speech-text transcription module\n",
    "<i> we are going to extract the dominant words from the text the packages used from NLP processing are:</i>\n",
    "      \n",
    "   1. Yake\n",
    "   2. Summa"
   ]
  },
  {
   "cell_type": "code",
   "execution_count": 30,
   "id": "55cee50f",
   "metadata": {},
   "outputs": [],
   "source": [
    "def yake_extract(t1):\n",
    "    kw_extractor = yake.KeywordExtractor()\n",
    "    language = \"en\"\n",
    "    max_ngram_size = 1\n",
    "    deduplication_threshold = 0.3\n",
    "    numOfKeywords = 10\n",
    "    custom_kw_extractor = yake.KeywordExtractor(n=max_ngram_size, dedupLim=deduplication_threshold, top=numOfKeywords)\n",
    "    keywords = custom_kw_extractor.extract_keywords(t1)\n",
    "    for kw in keywords:\n",
    "        if(kw[1]>=0.10):\n",
    "            #print(kw[0])\n",
    "            dominant_words.append(kw[0])\n"
   ]
  },
  {
   "cell_type": "code",
   "execution_count": 31,
   "id": "79a9c0b8",
   "metadata": {},
   "outputs": [],
   "source": [
    "def summa_extract(t2):\n",
    "    TR_keywords = keywords.keywords(t2)\n",
    "    return TR_keywords\n",
    "    "
   ]
  },
  {
   "cell_type": "markdown",
   "id": "d4fd4658",
   "metadata": {},
   "source": [
    "<b> We send the text received from the speech to clean the text and then we extract the dominant using <u><i>yake</i></u> and <u><i>summa</i></u> libraries </b>"
   ]
  },
  {
   "cell_type": "code",
   "execution_count": 32,
   "id": "11c3fd33",
   "metadata": {},
   "outputs": [],
   "source": [
    "def clean_to_dom_words(text_speech):\n",
    "    global dominant_words\n",
    "    global dw\n",
    "    t=cleaning_text(text_speech)\n",
    "    dominant_words=[]\n",
    "    yake_extract(t)\n",
    "    summa_text= summa_extract(t)\n",
    "    summa_text=summa_text.replace('\\n', \" \") \n",
    "    dominant_words.append(summa_text.rstrip())\n",
    "    dw=listToString(dominant_words)\n",
    "    dw=dw.replace(\" \",\",\")\n",
    "    print(\"Dominant words of video: \", dw)"
   ]
  },
  {
   "cell_type": "code",
   "execution_count": 33,
   "id": "c31c914c",
   "metadata": {},
   "outputs": [
    {
     "name": "stdout",
     "output_type": "stream",
     "text": [
      "Dominant words of video:  august,giving,qantas,eligible,dollars,good,celebrity,half,home,loan,apply,celebrity,\n"
     ]
    }
   ],
   "source": [
    "clean_to_dom_words(text_speech)"
   ]
  },
  {
   "cell_type": "markdown",
   "id": "54915904",
   "metadata": {},
   "source": [
    "### Model Building\n",
    "###  The models used for training are:\n",
    "    1.Naive Bayes\n",
    "    2.Decision Tree\n",
    "    3.Random Forest "
   ]
  },
  {
   "cell_type": "code",
   "execution_count": 34,
   "id": "94fa4c9e",
   "metadata": {},
   "outputs": [],
   "source": [
    "def model_building():\n",
    "    global nb,dt,rf,tfidf\n",
    "    data=pd.read_csv('company_df.csv')\n",
    "    X = data[['Entity', 'Description']]\n",
    "    y = data['Industry_Classification']\n",
    "    tfidf = TfidfVectorizer()\n",
    "    tfidf.fit(X['Entity'] + ' ' + X['Description'])\n",
    "    X_train_transformed_train = tfidf.transform(X['Entity'] + ' ' + X['Description'])\n",
    "    nb = MultinomialNB()\n",
    "    nb.fit(X_train_transformed_train, y)\n",
    "    dt = DecisionTreeClassifier()\n",
    "    dt.fit(X_train_transformed_train, y)\n",
    "    rf=RandomForestClassifier(random_state=0)\n",
    "    rf.fit(X_train_transformed_train, y)"
   ]
  },
  {
   "cell_type": "code",
   "execution_count": 35,
   "id": "1c7dd9b0",
   "metadata": {},
   "outputs": [],
   "source": [
    "model_building()"
   ]
  },
  {
   "cell_type": "markdown",
   "id": "ea6b3186",
   "metadata": {},
   "source": [
    "# Testing the model"
   ]
  },
  {
   "cell_type": "code",
   "execution_count": 36,
   "id": "ec07c7c2",
   "metadata": {},
   "outputs": [],
   "source": [
    "def test_model():\n",
    "    global y_pred\n",
    "    data_test=pd.DataFrame({'Logo':[logo],'DominantWords':[dw]})\n",
    "    X_2 = data_test[['Logo', 'DominantWords']]\n",
    "    X_test_transformed_1 = tfidf.transform(X_2['Logo'] + ' ' + X_2['DominantWords'])\n",
    "    y_pred = rf.predict(X_test_transformed_1)\n",
    "    cn=[\"Apparel, Footwear and Accessories\",\"Business and Legal\",\"Education\",\"Electronics and Communication\",\"Food and Beverage\"\n",
    "    ,\"Health and Beauty\",\"Home and Real Estate\",\"Insurance\",\"Life and Entertainment\",\"Pharmaceutical and Medical\",\"Politics, Government and Organizations\",\n",
    "    \"Restaurants\",\"Retail Stores\",\"Travel\",\"Vehicles\"]\n",
    "    class_name = []\n",
    "    for i in y_pred:\n",
    "        class_name.append(cn[i])\n",
    "    for i in class_name:\n",
    "        return i"
   ]
  },
  {
   "cell_type": "code",
   "execution_count": 38,
   "id": "fc68ca50",
   "metadata": {},
   "outputs": [
    {
     "name": "stdout",
     "output_type": "stream",
     "text": [
      "The Industry classification of the video: Business and Legal\n"
     ]
    }
   ],
   "source": [
    "market=test_model()\n",
    "print(\"The Industry classification of the video:\", market)"
   ]
  }
 ],
 "metadata": {
  "kernelspec": {
   "display_name": "Python 3 (ipykernel)",
   "language": "python",
   "name": "python3"
  },
  "language_info": {
   "codemirror_mode": {
    "name": "ipython",
    "version": 3
   },
   "file_extension": ".py",
   "mimetype": "text/x-python",
   "name": "python",
   "nbconvert_exporter": "python",
   "pygments_lexer": "ipython3",
   "version": "3.9.12"
  }
 },
 "nbformat": 4,
 "nbformat_minor": 5
}
